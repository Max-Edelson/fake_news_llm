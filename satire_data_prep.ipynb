{
 "cells": [
  {
   "cell_type": "code",
   "execution_count": 1,
   "id": "4326bbd1",
   "metadata": {},
   "outputs": [],
   "source": [
    "from datasets import load_dataset\n",
    "import numpy as np\n",
    "import pandas as pd\n",
    "from os.path import join\n",
    "\n",
    "df1 = load_dataset(\"phosseini/multimodal_satire\")['train'].to_pandas() # https://paperswithcode.com/dataset/satire-dataset\n",
    "df2 = pd.read_csv(join('data','OnionOrNot.csv')) # https://github.com/lukefeilberg/onion/blob/master/OnionOrNot.csv\n",
    "df3 = load_dataset(\"Biddls/Onion_News\")['train'].to_pandas() # https://huggingface.co/datasets/Biddls/Onion_News\n",
    "df4 = pd.read_csv(join('data','onionBreakingNews.csv')) # https://www.kaggle.com/datasets/undefinenull/satirical-news-from-the-onion"
   ]
  },
  {
   "cell_type": "code",
   "execution_count": 96,
   "id": "28993992",
   "metadata": {},
   "outputs": [
    {
     "name": "stdout",
     "output_type": "stream",
     "text": [
      "Index(['url', 'headline', 'image_link', 'is_satire'], dtype='object')\n",
      "\n",
      "Index(['text', 'label'], dtype='object')\n",
      "\n",
      "Index(['text'], dtype='object')\n",
      "\n",
      "Index(['Title', 'Published Time', 'Content'], dtype='object')\n"
     ]
    }
   ],
   "source": [
    "print(df1.columns)\n",
    "print()\n",
    "print(df2.columns)\n",
    "print()\n",
    "print(df3.columns)\n",
    "print()\n",
    "print(df4.columns)"
   ]
  },
  {
   "cell_type": "code",
   "execution_count": 97,
   "id": "02fe66b3",
   "metadata": {},
   "outputs": [
    {
     "name": "stdout",
     "output_type": "stream",
     "text": [
      "Index(['url', 'headline', 'image_link', 'is_satire'], dtype='object')\n",
      "4000\n"
     ]
    }
   ],
   "source": [
    "print(df1.columns)\n",
    "df1_clean = df1[df1['is_satire'] == 1]['headline'].tolist()\n",
    "print(len(df1_clean))\n",
    "#print(df1_clean)\n",
    "\n",
    "#X['text'] = df1_clean.reset_index(drop=True)\n",
    "#print(X)"
   ]
  },
  {
   "cell_type": "code",
   "execution_count": 98,
   "id": "70960896",
   "metadata": {},
   "outputs": [
    {
     "name": "stdout",
     "output_type": "stream",
     "text": [
      "Index(['text', 'label'], dtype='object')\n",
      "24000\n"
     ]
    }
   ],
   "source": [
    "print(df2.columns)\n",
    "df2_clean = df2['text'].tolist()\n",
    "print(len(df2_clean))\n",
    "\n",
    "#X['text'] = X.append()"
   ]
  },
  {
   "cell_type": "code",
   "execution_count": 99,
   "id": "62e760ec",
   "metadata": {},
   "outputs": [
    {
     "name": "stdout",
     "output_type": "stream",
     "text": [
      "Index(['text'], dtype='object')\n",
      "33880\n"
     ]
    }
   ],
   "source": [
    "print(df3.columns)\n",
    "df3_clean = df3['text'].tolist()\n",
    "print(len(df3_clean))"
   ]
  },
  {
   "cell_type": "code",
   "execution_count": 100,
   "id": "cc22319b",
   "metadata": {},
   "outputs": [
    {
     "name": "stdout",
     "output_type": "stream",
     "text": [
      "Index(['Title', 'Published Time', 'Content'], dtype='object')\n",
      "6851\n"
     ]
    }
   ],
   "source": [
    "print(df4.columns)\n",
    "df4_clean = df4['Title'].tolist()\n",
    "print(len(df4_clean))"
   ]
  },
  {
   "cell_type": "code",
   "execution_count": 102,
   "id": "70051189",
   "metadata": {},
   "outputs": [
    {
     "name": "stdout",
     "output_type": "stream",
     "text": [
      "  instruction                                               text\n",
      "0         NaN  'This Ain’t It, Chief' Updated To 'This Ain’t ...\n",
      "1         NaN  Using Our Prophetic Powers For Good: The Babyl...\n",
      "2         NaN  Study Finds Connection Between Wearing A Mask ...\n",
      "3         NaN  Benny Hinn Travels To Dagobah To Master His Po...\n",
      "4         NaN      White House Adds Cry Room For Fussy Reporters\n",
      "137462\n"
     ]
    }
   ],
   "source": [
    "data = df1_clean + df2_clean + df3_clean + df4_clean\n",
    "X = pd.DataFrame(columns=['instruction','text'])\n",
    "X['instruction'] = ''\n",
    "X['text'] = data\n",
    "\n",
    "print(X.head())\n",
    "print(X.size)\n",
    "X.to_csv(join('data','consolodated_text.csv'), index=False)"
   ]
  },
  {
   "cell_type": "code",
   "execution_count": 5,
   "id": "7e41d330",
   "metadata": {},
   "outputs": [
    {
     "name": "stdout",
     "output_type": "stream",
     "text": [
      "Requirement already satisfied: OpenAI in /Users/maxedelson/opt/anaconda3/lib/python3.9/site-packages (1.10.0)\n",
      "Requirement already satisfied: httpx<1,>=0.23.0 in /Users/maxedelson/opt/anaconda3/lib/python3.9/site-packages (from OpenAI) (0.26.0)\n",
      "Requirement already satisfied: tqdm>4 in /Users/maxedelson/opt/anaconda3/lib/python3.9/site-packages (from OpenAI) (4.62.3)\n",
      "Requirement already satisfied: typing-extensions<5,>=4.7 in /Users/maxedelson/opt/anaconda3/lib/python3.9/site-packages (from OpenAI) (4.9.0)\n",
      "Requirement already satisfied: pydantic<3,>=1.9.0 in /Users/maxedelson/opt/anaconda3/lib/python3.9/site-packages (from OpenAI) (2.6.0)\n",
      "Requirement already satisfied: distro<2,>=1.7.0 in /Users/maxedelson/opt/anaconda3/lib/python3.9/site-packages (from OpenAI) (1.9.0)\n",
      "Requirement already satisfied: sniffio in /Users/maxedelson/opt/anaconda3/lib/python3.9/site-packages (from OpenAI) (1.2.0)\n",
      "Requirement already satisfied: anyio<5,>=3.5.0 in /Users/maxedelson/opt/anaconda3/lib/python3.9/site-packages (from OpenAI) (4.2.0)\n",
      "Requirement already satisfied: idna>=2.8 in /Users/maxedelson/opt/anaconda3/lib/python3.9/site-packages (from anyio<5,>=3.5.0->OpenAI) (2.10)\n",
      "Requirement already satisfied: exceptiongroup>=1.0.2 in /Users/maxedelson/opt/anaconda3/lib/python3.9/site-packages (from anyio<5,>=3.5.0->OpenAI) (1.1.0)\n",
      "Requirement already satisfied: httpcore==1.* in /Users/maxedelson/opt/anaconda3/lib/python3.9/site-packages (from httpx<1,>=0.23.0->OpenAI) (1.0.2)\n",
      "Requirement already satisfied: certifi in /Users/maxedelson/opt/anaconda3/lib/python3.9/site-packages (from httpx<1,>=0.23.0->OpenAI) (2021.10.8)\n",
      "Requirement already satisfied: h11<0.15,>=0.13 in /Users/maxedelson/opt/anaconda3/lib/python3.9/site-packages (from httpcore==1.*->httpx<1,>=0.23.0->OpenAI) (0.14.0)\n",
      "Requirement already satisfied: annotated-types>=0.4.0 in /Users/maxedelson/opt/anaconda3/lib/python3.9/site-packages (from pydantic<3,>=1.9.0->OpenAI) (0.6.0)\n",
      "Requirement already satisfied: pydantic-core==2.16.1 in /Users/maxedelson/opt/anaconda3/lib/python3.9/site-packages (from pydantic<3,>=1.9.0->OpenAI) (2.16.1)\n"
     ]
    },
    {
     "ename": "ModuleNotFoundError",
     "evalue": "No module named 'openai'",
     "output_type": "error",
     "traceback": [
      "\u001b[0;31m---------------------------------------------------------------------------\u001b[0m",
      "\u001b[0;31mModuleNotFoundError\u001b[0m                       Traceback (most recent call last)",
      "Cell \u001b[0;32mIn[5], line 2\u001b[0m\n\u001b[1;32m      1\u001b[0m get_ipython()\u001b[38;5;241m.\u001b[39msystem(\u001b[38;5;124m'\u001b[39m\u001b[38;5;124mpip3 install OpenAI\u001b[39m\u001b[38;5;124m'\u001b[39m)\n\u001b[0;32m----> 2\u001b[0m \u001b[38;5;28;01mfrom\u001b[39;00m \u001b[38;5;21;01mopenai\u001b[39;00m \u001b[38;5;28;01mimport\u001b[39;00m OpenAI\n\u001b[1;32m      3\u001b[0m client \u001b[38;5;241m=\u001b[39m OpenAI()\n",
      "\u001b[0;31mModuleNotFoundError\u001b[0m: No module named 'openai'"
     ]
    }
   ],
   "source": [
    "!pip3 install OpenAI\n",
    "from openai import OpenAI\n",
    "client = OpenAI()\n"
   ]
  },
  {
   "cell_type": "code",
   "execution_count": 87,
   "id": "ac32d8aa",
   "metadata": {},
   "outputs": [
    {
     "ename": "NameError",
     "evalue": "name 'client' is not defined",
     "output_type": "error",
     "traceback": [
      "\u001b[0;31m---------------------------------------------------------------------------\u001b[0m",
      "\u001b[0;31mNameError\u001b[0m                                 Traceback (most recent call last)",
      "\u001b[0;32m/var/folders/pl/k2hrnj511_d05svys36v8rrc0000gn/T/ipykernel_41481/3447212211.py\u001b[0m in \u001b[0;36m<module>\u001b[0;34m\u001b[0m\n\u001b[0;32m----> 1\u001b[0;31m \u001b[0mcompletion\u001b[0m \u001b[0;34m=\u001b[0m \u001b[0mclient\u001b[0m\u001b[0;34m.\u001b[0m\u001b[0mchat\u001b[0m\u001b[0;34m.\u001b[0m\u001b[0mcompletions\u001b[0m\u001b[0;34m.\u001b[0m\u001b[0mcreate\u001b[0m\u001b[0;34m(\u001b[0m\u001b[0mmodel\u001b[0m\u001b[0;34m=\u001b[0m\u001b[0;34m\"gpt-4\"\u001b[0m\u001b[0;34m,\u001b[0m \u001b[0mmessages\u001b[0m\u001b[0;34m=\u001b[0m\u001b[0;34m[\u001b[0m\u001b[0;34m{\u001b[0m\u001b[0;34m\"role\"\u001b[0m\u001b[0;34m:\u001b[0m \u001b[0;34m\"system\"\u001b[0m\u001b[0;34m,\u001b[0m \u001b[0;34m\"content\"\u001b[0m\u001b[0;34m:\u001b[0m \u001b[0;34m\"You are generating a Llama-2 instruction to create satirical news headlines.\"\u001b[0m\u001b[0;34m}\u001b[0m\u001b[0;34m,\u001b[0m \u001b[0;34m{\u001b[0m\u001b[0;34m\"role\"\u001b[0m\u001b[0;34m:\u001b[0m \u001b[0;34m\"user\"\u001b[0m\u001b[0;34m,\u001b[0m \u001b[0;34m\"content\"\u001b[0m\u001b[0;34m:\u001b[0m \u001b[0;34m\"Create the Llama-2 instruction that generates a satirical headline similar to the following: [This Ain’t It, Chief' Updated To 'This Ain’t It, Noble Indigenous Tribal Leader]\"\u001b[0m\u001b[0;34m}\u001b[0m\u001b[0;34m]\u001b[0m\u001b[0;34m)\u001b[0m\u001b[0;34m\u001b[0m\u001b[0;34m\u001b[0m\u001b[0m\n\u001b[0m\u001b[1;32m      2\u001b[0m \u001b[0;34m\u001b[0m\u001b[0m\n",
      "\u001b[0;31mNameError\u001b[0m: name 'client' is not defined"
     ]
    }
   ],
   "source": [
    "completion = client.chat.completions.create(model=\"gpt-4\", messages=[{\"role\": \"system\", \"content\": \"You are generating a Llama-2 instruction to create satirical news headlines.\"}, {\"role\": \"user\", \"content\": \"Create the Llama-2 instruction that generates a satirical headline similar to the following: [This Ain’t It, Chief' Updated To 'This Ain’t It, Noble Indigenous Tribal Leader]\"}])\n",
    "\n"
   ]
  },
  {
   "cell_type": "code",
   "execution_count": 14,
   "id": "1a4156ff",
   "metadata": {},
   "outputs": [
    {
     "name": "stdout",
     "output_type": "stream",
     "text": [
      "    A         B    C\n",
      "0   7  0.000604  NaN\n",
      "1  42 -3.075704  1.0\n",
      "2  41  0.415855  NaN\n",
      "3  87 -0.138034  3.0\n",
      "4  81  0.535095  2.0\n",
      "5  65 -0.357935  1.0\n",
      "6  11 -0.763556  1.0\n",
      "7  38  0.217638  3.0\n",
      "8   9  0.433588  3.0\n",
      "9  60 -0.764654  1.0\n",
      "    D         E    F\n",
      "0   7  0.000604  NaN\n",
      "1  42 -3.075704  1.0\n",
      "2  41  0.415855  NaN\n",
      "3  87 -0.138034  3.0\n",
      "4  81  0.535095  2.0\n",
      "5  65 -0.357935  1.0\n",
      "6  11 -0.763556  1.0\n",
      "7  38  0.217638  3.0\n",
      "8   9  0.433588  3.0\n",
      "9  60 -0.764654  1.0\n"
     ]
    }
   ],
   "source": [
    "df = pd.DataFrame(data = {\n",
    "    'A': np.random.randint(0, 100, 10),\n",
    "    'B': np.random.randn(10),\n",
    "    'C': np.random.choice([np.nan, 1, 2, 3], size=10)\n",
    "}\n",
    ")\n",
    "print(df)\n",
    "df = df.rename(columns={'A': 'D', 'B': 'E', 'C': 'F'})\n",
    "print(df)\n"
   ]
  },
  {
   "cell_type": "code",
   "execution_count": 13,
   "id": "521cbdd2",
   "metadata": {},
   "outputs": [
    {
     "name": "stdout",
     "output_type": "stream",
     "text": [
      "    A         B    C\n",
      "0  49 -1.424879  1.0\n",
      "1   3  0.603113  1.0\n",
      "2  51 -0.044517  2.0\n",
      "3  89 -0.442024  3.0\n",
      "5  38  0.192401  1.0\n",
      "7  96  0.796705  3.0\n",
      "8   3 -0.669920  3.0\n",
      "9  36  1.864518  2.0\n"
     ]
    }
   ],
   "source": [
    "print(df[~df.isnull().any(axis=1)])"
   ]
  },
  {
   "cell_type": "code",
   "execution_count": 15,
   "id": "6e88724e",
   "metadata": {},
   "outputs": [
    {
     "name": "stdout",
     "output_type": "stream",
     "text": [
      "This is some ’text’ with  unicode characters \n"
     ]
    }
   ],
   "source": [
    "import re\n",
    "\n",
    "def replace_unicode_escape_sequences(input_string):\n",
    "    # Define regular expression pattern to match Unicode escape sequences\n",
    "    unicode_pattern = re.compile(r'\\\\u[0-9a-fA-F]{4}')\n",
    "    \n",
    "    # Define a function to replace Unicode escape sequences with actual characters\n",
    "    def replace(match):\n",
    "        return match.group(0).encode().decode('unicode_escape')\n",
    "    \n",
    "    # Use regular expression to replace all Unicode escape sequences\n",
    "    output_string = unicode_pattern.sub(replace, input_string)\n",
    "    \n",
    "    return output_string\n",
    "\n",
    "# Example usage:\n",
    "input_string = \"This is some \\u2019text\\u2019 with \\u00a0unicode characters\\u00a0\"\n",
    "output_string = replace_unicode_escape_sequences(input_string)\n",
    "print(output_string)"
   ]
  }
 ],
 "metadata": {
  "kernelspec": {
   "display_name": "Python 3 (ipykernel)",
   "language": "python",
   "name": "python3"
  },
  "language_info": {
   "codemirror_mode": {
    "name": "ipython",
    "version": 3
   },
   "file_extension": ".py",
   "mimetype": "text/x-python",
   "name": "python",
   "nbconvert_exporter": "python",
   "pygments_lexer": "ipython3",
   "version": "3.9.7"
  }
 },
 "nbformat": 4,
 "nbformat_minor": 5
}
