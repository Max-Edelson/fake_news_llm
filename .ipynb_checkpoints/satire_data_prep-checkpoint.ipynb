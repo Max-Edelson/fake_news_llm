{
 "cells": [
  {
   "cell_type": "code",
   "execution_count": 1,
   "id": "4326bbd1",
   "metadata": {},
   "outputs": [],
   "source": [
    "from datasets import load_dataset\n",
    "import numpy as np\n",
    "import pandas as pd\n",
    "from os.path import join\n",
    "\n",
    "df1 = load_dataset(\"phosseini/multimodal_satire\")['train'].to_pandas() # https://paperswithcode.com/dataset/satire-dataset\n",
    "df2 = pd.read_csv(join('data','OnionOrNot.csv')) # https://github.com/lukefeilberg/onion/blob/master/OnionOrNot.csv\n",
    "df3 = load_dataset(\"Biddls/Onion_News\")['train'].to_pandas() # https://huggingface.co/datasets/Biddls/Onion_News\n",
    "df4 = pd.read_csv(join('data','onionBreakingNews.csv')) # https://www.kaggle.com/datasets/undefinenull/satirical-news-from-the-onion"
   ]
  },
  {
   "cell_type": "code",
   "execution_count": 2,
   "id": "28993992",
   "metadata": {},
   "outputs": [
    {
     "name": "stdout",
     "output_type": "stream",
     "text": [
      "Index(['url', 'headline', 'image_link', 'is_satire'], dtype='object')\n",
      "\n",
      "Index(['text', 'label'], dtype='object')\n",
      "\n",
      "Index(['text'], dtype='object')\n",
      "\n",
      "Index(['Title', 'Published Time', 'Content'], dtype='object')\n"
     ]
    }
   ],
   "source": [
    "print(df1.columns)\n",
    "print()\n",
    "print(df2.columns)\n",
    "print()\n",
    "print(df3.columns)\n",
    "print()\n",
    "print(df4.columns)"
   ]
  },
  {
   "cell_type": "code",
   "execution_count": 64,
   "id": "02fe66b3",
   "metadata": {},
   "outputs": [
    {
     "name": "stdout",
     "output_type": "stream",
     "text": [
      "Index(['url', 'headline', 'image_link', 'is_satire'], dtype='object')\n",
      "4000\n"
     ]
    }
   ],
   "source": [
    "print(df1.columns)\n",
    "df1_clean = df1[df1['is_satire'] == 1]['headline'].tolist()\n",
    "print(len(df1_clean))\n",
    "#print(df1_clean)\n",
    "\n",
    "#X['text'] = df1_clean.reset_index(drop=True)\n",
    "#print(X)"
   ]
  },
  {
   "cell_type": "code",
   "execution_count": 57,
   "id": "70960896",
   "metadata": {},
   "outputs": [
    {
     "name": "stdout",
     "output_type": "stream",
     "text": [
      "Index(['text', 'label'], dtype='object')\n",
      "24000\n"
     ]
    }
   ],
   "source": [
    "print(df2.columns)\n",
    "df2_clean = df2['text'].tolist()\n",
    "print(len(df2_clean))\n",
    "\n",
    "#X['text'] = X.append()"
   ]
  },
  {
   "cell_type": "code",
   "execution_count": 60,
   "id": "62e760ec",
   "metadata": {},
   "outputs": [
    {
     "name": "stdout",
     "output_type": "stream",
     "text": [
      "Index(['text'], dtype='object')\n",
      "33880\n"
     ]
    }
   ],
   "source": [
    "print(df3.columns)\n",
    "df3_clean = df3['text'].tolist()\n",
    "print(len(df3_clean))"
   ]
  },
  {
   "cell_type": "code",
   "execution_count": 61,
   "id": "cc22319b",
   "metadata": {},
   "outputs": [
    {
     "name": "stdout",
     "output_type": "stream",
     "text": [
      "Index(['Title', 'Published Time', 'Content'], dtype='object')\n",
      "6851\n"
     ]
    }
   ],
   "source": [
    "print(df4.columns)\n",
    "df4_clean = df4['Title'].tolist()\n",
    "print(len(df4_clean))"
   ]
  },
  {
   "cell_type": "code",
   "execution_count": 70,
   "id": "70051189",
   "metadata": {},
   "outputs": [
    {
     "name": "stdout",
     "output_type": "stream",
     "text": [
      "                                                    text\n",
      "0      'This Ain’t It, Chief' Updated To 'This Ain’t ...\n",
      "1      Using Our Prophetic Powers For Good: The Babyl...\n",
      "2      Study Finds Connection Between Wearing A Mask ...\n",
      "3      Benny Hinn Travels To Dagobah To Master His Po...\n",
      "4          White House Adds Cry Room For Fussy Reporters\n",
      "...                                                  ...\n",
      "68726  Decades Of Breathing Really Starting To Catch ...\n",
      "68727  Bank Patrons Can Expect Same Poor Service Afte...\n",
      "68728  Queen Elizabeth Frantically Trying To Preserve...\n",
      "68729  Obama: No Option Off The Table Except Snatchin...\n",
      "68730  Bath & Body Works Scientists Destroy Experimen...\n",
      "\n",
      "[68731 rows x 1 columns]\n"
     ]
    }
   ],
   "source": [
    "data = df1_clean + df2_clean + df3_clean + df4_clean\n",
    "X = pd.DataFrame(columns=['text'])\n",
    "X['text'] = data\n",
    "print(X)"
   ]
  },
  {
   "cell_type": "code",
   "execution_count": 73,
   "id": "7e41d330",
   "metadata": {},
   "outputs": [
    {
     "ename": "ImportError",
     "evalue": "cannot import name 'override' from 'typing_extensions' (/Users/maxedelson/opt/anaconda3/lib/python3.9/site-packages/typing_extensions.py)",
     "output_type": "error",
     "traceback": [
      "\u001b[0;31m---------------------------------------------------------------------------\u001b[0m",
      "\u001b[0;31mImportError\u001b[0m                               Traceback (most recent call last)",
      "\u001b[0;32m/var/folders/pl/k2hrnj511_d05svys36v8rrc0000gn/T/ipykernel_41481/3354695510.py\u001b[0m in \u001b[0;36m<module>\u001b[0;34m\u001b[0m\n\u001b[0;32m----> 1\u001b[0;31m \u001b[0;32mfrom\u001b[0m \u001b[0mopenai\u001b[0m \u001b[0;32mimport\u001b[0m \u001b[0mOpenAI\u001b[0m\u001b[0;34m\u001b[0m\u001b[0;34m\u001b[0m\u001b[0m\n\u001b[0m\u001b[1;32m      2\u001b[0m \u001b[0mclient\u001b[0m \u001b[0;34m=\u001b[0m \u001b[0mOpenAI\u001b[0m\u001b[0;34m(\u001b[0m\u001b[0;34m)\u001b[0m\u001b[0;34m\u001b[0m\u001b[0;34m\u001b[0m\u001b[0m\n",
      "\u001b[0;32m~/opt/anaconda3/lib/python3.9/site-packages/openai/__init__.py\u001b[0m in \u001b[0;36m<module>\u001b[0;34m\u001b[0m\n\u001b[1;32m      4\u001b[0m \u001b[0;34m\u001b[0m\u001b[0m\n\u001b[1;32m      5\u001b[0m \u001b[0;32mimport\u001b[0m \u001b[0mos\u001b[0m \u001b[0;32mas\u001b[0m \u001b[0m_os\u001b[0m\u001b[0;34m\u001b[0m\u001b[0;34m\u001b[0m\u001b[0m\n\u001b[0;32m----> 6\u001b[0;31m \u001b[0;32mfrom\u001b[0m \u001b[0mtyping_extensions\u001b[0m \u001b[0;32mimport\u001b[0m \u001b[0moverride\u001b[0m\u001b[0;34m\u001b[0m\u001b[0;34m\u001b[0m\u001b[0m\n\u001b[0m\u001b[1;32m      7\u001b[0m \u001b[0;34m\u001b[0m\u001b[0m\n\u001b[1;32m      8\u001b[0m \u001b[0;32mfrom\u001b[0m \u001b[0;34m.\u001b[0m \u001b[0;32mimport\u001b[0m \u001b[0mtypes\u001b[0m\u001b[0;34m\u001b[0m\u001b[0;34m\u001b[0m\u001b[0m\n",
      "\u001b[0;31mImportError\u001b[0m: cannot import name 'override' from 'typing_extensions' (/Users/maxedelson/opt/anaconda3/lib/python3.9/site-packages/typing_extensions.py)"
     ]
    }
   ],
   "source": [
    "from openai import OpenAI\n",
    "client = OpenAI()\n"
   ]
  },
  {
   "cell_type": "code",
   "execution_count": null,
   "id": "ac32d8aa",
   "metadata": {},
   "outputs": [],
   "source": [
    "completion = client.chat.completions.create(\n",
    "  model=\"gpt-3.5-turbo\",\n",
    "  messages=[\n",
    "    {\"role\": \"system\", \"content\": \"You are a poetic assistant, skilled in explaining complex programming concepts with creative flair.\"},\n",
    "    {\"role\": \"user\", \"content\": \"Compose a poem that explains the concept of recursion in programming.\"}\n",
    "  ]\n",
    ")"
   ]
  }
 ],
 "metadata": {
  "kernelspec": {
   "display_name": "Python 3 (ipykernel)",
   "language": "python",
   "name": "python3"
  },
  "language_info": {
   "codemirror_mode": {
    "name": "ipython",
    "version": 3
   },
   "file_extension": ".py",
   "mimetype": "text/x-python",
   "name": "python",
   "nbconvert_exporter": "python",
   "pygments_lexer": "ipython3",
   "version": "3.9.7"
  }
 },
 "nbformat": 4,
 "nbformat_minor": 5
}
